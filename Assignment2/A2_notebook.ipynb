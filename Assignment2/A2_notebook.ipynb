{
 "cells": [
  {
   "cell_type": "markdown",
   "metadata": {},
   "source": [
    "# COMP 551 — Assignment 2\n",
    "\n",
    "Authors:\n",
    " - Bernier, Audréanne\n",
    " - Coull-Neveu, Ben\n",
    " - Trachsel-Bourbeau, Anjara\n",
    "\n"
   ]
  },
  {
   "cell_type": "markdown",
   "metadata": {},
   "source": [
    "Imports"
   ]
  },
  {
   "cell_type": "code",
   "execution_count": 3,
   "metadata": {},
   "outputs": [],
   "source": [
    "from ucimlrepo import fetch_ucirepo\n",
    "import numpy as np\n",
    "import pandas as pd\n",
    "import seaborn as sns\n",
    "from math import factorial\n",
    "import matplotlib.pyplot as plt\n",
    "%matplotlib inline\n",
    "\n",
    "import warnings\n",
    "warnings.filterwarnings('ignore')"
   ]
  },
  {
   "cell_type": "markdown",
   "metadata": {},
   "source": [
    "## Functions & Models"
   ]
  },
  {
   "cell_type": "markdown",
   "metadata": {},
   "source": [
    "### Useful Functions"
   ]
  },
  {
   "cell_type": "code",
   "execution_count": null,
   "metadata": {},
   "outputs": [],
   "source": []
  },
  {
   "cell_type": "markdown",
   "metadata": {},
   "source": [
    "### Model Implementations"
   ]
  },
  {
   "cell_type": "code",
   "execution_count": null,
   "metadata": {},
   "outputs": [],
   "source": []
  },
  {
   "cell_type": "markdown",
   "metadata": {},
   "source": [
    "## Task 1: Linear Regression with Non-Linear Basis Functions"
   ]
  },
  {
   "cell_type": "markdown",
   "metadata": {},
   "source": [
    "#### Data Generation & Non-Linear Basis Functions"
   ]
  },
  {
   "cell_type": "code",
   "execution_count": 5,
   "metadata": {},
   "outputs": [
    {
     "data": {
      "text/plain": [
       "' \\n1. Data Generation: \\n    Generate 100 data points sampled from the following non-linear function:\\n            y(x) = (log x + 1) cos(x) + sin(2x) + ε\\n    where x is sampled uniformly in the range [0, 10]. And ε is sampled randomly and independently for each new data point from a Gaussian with mean 0 and variance 1 to simulate real-world noisy data. Plot both the clean data and the noisy data.\\n\\n2. Non-Linear Basis Functions: Fit a linear regression model to the generated data, but instead of using the original features, transform them using Gaussian basis functions. Specifically, use Gaussian basis functions of the form:\\n            \\x12 (x−μ)2\\x13 φ(x,μ,σ)=exp − σ2\\n    where μ is the mean of the Gaussian and σ = 1 is the standard deviation. You will use basis functions with\\n    increasing complexity, ranging from 0 to 45 Gaussians, by varying the number of basis functions D. Please plot\\n    the Gaussian basis for range of generated data. Note: For μ, use: μi = xmin + xmax −xmin i, i ∈ [0, D − 1]. D−1\\n    This is the mean for the ith Gaussian.\\n'"
      ]
     },
     "execution_count": 5,
     "metadata": {},
     "output_type": "execute_result"
    }
   ],
   "source": [
    "\"\"\" \n",
    "1. Data Generation: \n",
    "    Generate 100 data points sampled from the following non-linear function:\n",
    "            y(x) = (log x + 1) cos(x) + sin(2x) + ε\n",
    "    where x is sampled uniformly in the range [0, 10]. And ε is sampled randomly and independently for each new data point from a Gaussian with mean 0 and variance 1 to simulate real-world noisy data. Plot both the clean data and the noisy data.\n",
    "\n",
    "2. Non-Linear Basis Functions: Fit a linear regression model to the generated data, but instead of using the original features, transform them using Gaussian basis functions. Specifically, use Gaussian basis functions of the form:\n",
    "            \u0012 (x−μ)2\u0013 φ(x,μ,σ)=exp − σ2\n",
    "    where μ is the mean of the Gaussian and σ = 1 is the standard deviation. You will use basis functions with\n",
    "    increasing complexity, ranging from 0 to 45 Gaussians, by varying the number of basis functions D. Please plot\n",
    "    the Gaussian basis for range of generated data. Note: For μ, use: μi = xmin + xmax −xmin i, i ∈ [0, D − 1]. D−1\n",
    "    This is the mean for the ith Gaussian.\n",
    "\"\"\""
   ]
  },
  {
   "cell_type": "markdown",
   "metadata": {},
   "source": [
    "## Task 2: Bias-Variance Tradeoff with Multiple Fits"
   ]
  },
  {
   "cell_type": "code",
   "execution_count": null,
   "metadata": {},
   "outputs": [],
   "source": []
  },
  {
   "cell_type": "markdown",
   "metadata": {},
   "source": [
    "## Task 3: Regularization with Cross-Validation"
   ]
  },
  {
   "cell_type": "markdown",
   "metadata": {},
   "source": [
    "## Task 4: Effect of L1 and L2 Regularization on Loss"
   ]
  },
  {
   "cell_type": "markdown",
   "metadata": {},
   "source": []
  }
 ],
 "metadata": {
  "kernelspec": {
   "display_name": "base",
   "language": "python",
   "name": "python3"
  },
  "language_info": {
   "codemirror_mode": {
    "name": "ipython",
    "version": 3
   },
   "file_extension": ".py",
   "mimetype": "text/x-python",
   "name": "python",
   "nbconvert_exporter": "python",
   "pygments_lexer": "ipython3",
   "version": "3.11.7"
  }
 },
 "nbformat": 4,
 "nbformat_minor": 2
}
