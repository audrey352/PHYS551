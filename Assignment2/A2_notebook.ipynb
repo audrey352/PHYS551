{
 "cells": [
  {
   "cell_type": "markdown",
   "metadata": {},
   "source": [
    "# COMP 551 — Assignment 2\n",
    "\n",
    "Authors:\n",
    " - Bernier, Audréanne\n",
    " - Coull-Neveu, Ben\n",
    " - Trachsel-Bourbeau, Anjara"
   ]
  },
  {
   "cell_type": "markdown",
   "metadata": {},
   "source": [
    "Imports"
   ]
  },
  {
   "cell_type": "code",
   "execution_count": 3,
   "metadata": {},
   "outputs": [],
   "source": [
    "from ucimlrepo import fetch_ucirepo\n",
    "import numpy as np\n",
    "import pandas as pd\n",
    "import seaborn as sns\n",
    "from math import factorial\n",
    "import matplotlib.pyplot as plt\n",
    "%matplotlib inline\n",
    "\n",
    "import warnings\n",
    "warnings.filterwarnings('ignore')"
   ]
  },
  {
   "cell_type": "markdown",
   "metadata": {},
   "source": [
    "## Functions & Models"
   ]
  },
  {
   "cell_type": "markdown",
   "metadata": {},
   "source": [
    "### Useful Functions"
   ]
  },
  {
   "cell_type": "code",
   "execution_count": null,
   "metadata": {},
   "outputs": [],
   "source": []
  },
  {
   "cell_type": "markdown",
   "metadata": {},
   "source": [
    "### Model Implementations"
   ]
  },
  {
   "cell_type": "code",
   "execution_count": null,
   "metadata": {},
   "outputs": [],
   "source": []
  },
  {
   "cell_type": "markdown",
   "metadata": {},
   "source": [
    "## Task 1: Linear Regression with Non-Linear Basis Functions"
   ]
  },
  {
   "cell_type": "markdown",
   "metadata": {},
   "source": [
    "#### Data Generation & Non-Linear Basis Functions"
   ]
  },
  {
   "cell_type": "code",
   "execution_count": null,
   "metadata": {},
   "outputs": [
    {
     "data": {
      "text/plain": [
       "' \\nDeliverables:\\n'"
      ]
     },
     "execution_count": 6,
     "metadata": {},
     "output_type": "execute_result"
    }
   ],
   "source": [
    "\"\"\" \n",
    "Minimum Deliverables:\n",
    "• Plot of the Gaussian basis for range of generated data.\n",
    "• Plots of the fitted models for 10 different values of Gaussian basis functions (0, 5, ..., 45), showing both the noisy data and the true function.\n",
    "• A table showing the sum of squared errors (SSE) for each model on both the training and validation sets, or you could show them in your figures.\n",
    "• A brief report explaining the selection of the optimal model and your observations regarding underfitting and overfitting.\n",
    "\"\"\""
   ]
  },
  {
   "cell_type": "markdown",
   "metadata": {},
   "source": [
    "## Task 2: Bias-Variance Tradeoff with Multiple Fits"
   ]
  },
  {
   "cell_type": "code",
   "execution_count": null,
   "metadata": {},
   "outputs": [],
   "source": [
    "\"\"\" \n",
    "Minimum Deliverables:\n",
    "• Plots of bias-variance tradeoff figure and your explanation.\n",
    "\"\"\""
   ]
  },
  {
   "cell_type": "markdown",
   "metadata": {},
   "source": [
    "## Task 3: Regularization with Cross-Validation"
   ]
  },
  {
   "cell_type": "code",
   "execution_count": 9,
   "metadata": {},
   "outputs": [
    {
     "data": {
      "text/plain": [
       "'\\nMinimum Deliverables\\n• Plots showing train and validation errors vs. λ for both L1 and L2 regularization.\\n• Plots showing bias squared, variance, and (Bias)^2 + Variance,(Bias)^2 + Variance + noise_variance, as a function\\n    of λ, test error for both L1 and L2 regularization.\\n• Analysis of the results, explaining how the choice of λ affects the model performance in terms of bias and\\n    variance.\\n• Selection of the optimal λ for both L1 and L2 regularization.\\n'"
      ]
     },
     "execution_count": 9,
     "metadata": {},
     "output_type": "execute_result"
    }
   ],
   "source": [
    "\"\"\"\n",
    "Minimum Deliverables\n",
    "• Plots showing train and validation errors vs. λ for both L1 and L2 regularization.\n",
    "• Plots showing bias squared, variance, and (Bias)^2 + Variance,(Bias)^2 + Variance + noise_variance, as a function\n",
    "    of λ, test error for both L1 and L2 regularization.\n",
    "• Analysis of the results, explaining how the choice of λ affects the model performance in terms of bias and\n",
    "    variance.\n",
    "• Selection of the optimal λ for both L1 and L2 regularization.\n",
    "\"\"\""
   ]
  },
  {
   "cell_type": "markdown",
   "metadata": {},
   "source": [
    "## Task 4: Effect of L1 and L2 Regularization on Loss"
   ]
  },
  {
   "cell_type": "code",
   "execution_count": null,
   "metadata": {},
   "outputs": [],
   "source": [
    "\"\"\"\n",
    "Minimum Deliverables\n",
    "• Contour Plots: Contour plots of the loss function for L1 and L2 regularization with varying strengths.\n",
    "• Optimization Paths: Plots showing the trajectory of gradient descent for different regularization strengths.\n",
    "• Analysis: Based on the plots, provide observations about the impact of L1 and L2 regularization on the model’s weights and performance.\n",
    "\"\"\""
   ]
  }
 ],
 "metadata": {
  "kernelspec": {
   "display_name": "base",
   "language": "python",
   "name": "python3"
  },
  "language_info": {
   "codemirror_mode": {
    "name": "ipython",
    "version": 3
   },
   "file_extension": ".py",
   "mimetype": "text/x-python",
   "name": "python",
   "nbconvert_exporter": "python",
   "pygments_lexer": "ipython3",
   "version": "3.11.7"
  }
 },
 "nbformat": 4,
 "nbformat_minor": 2
}
